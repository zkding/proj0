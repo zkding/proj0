{
 "cells": [
  {
   "cell_type": "code",
   "execution_count": 2,
   "metadata": {},
   "outputs": [
    {
     "data": {
      "text/plain": [
       "['55', '11', '23']"
      ]
     },
     "execution_count": 2,
     "metadata": {},
     "output_type": "execute_result"
    }
   ],
   "source": [
    "'55 11 23'.rstrip().split()"
   ]
  },
  {
   "cell_type": "code",
   "execution_count": 3,
   "metadata": {
    "scrolled": true
   },
   "outputs": [
    {
     "name": "stdout",
     "output_type": "stream",
     "text": [
      "3 11 23 54 12 85 96 45 23 5\n"
     ]
    },
    {
     "ename": "ValueError",
     "evalue": "invalid literal for int() with base 10: '3 11 23 54 12 85 96 45 23 5'",
     "output_type": "error",
     "traceback": [
      "\u001b[0;31m---------------------------------------------------------------------------\u001b[0m",
      "\u001b[0;31mValueError\u001b[0m                                Traceback (most recent call last)",
      "\u001b[0;32m<ipython-input-3-fdeeded55fec>\u001b[0m in \u001b[0;36m<module>\u001b[0;34m\u001b[0m\n\u001b[0;32m----> 1\u001b[0;31m \u001b[0mn\u001b[0m \u001b[0;34m=\u001b[0m \u001b[0mint\u001b[0m\u001b[0;34m(\u001b[0m\u001b[0minput\u001b[0m\u001b[0;34m(\u001b[0m\u001b[0;34m)\u001b[0m\u001b[0;34m.\u001b[0m\u001b[0mstrip\u001b[0m\u001b[0;34m(\u001b[0m\u001b[0;34m)\u001b[0m\u001b[0;34m)\u001b[0m\u001b[0;34m\u001b[0m\u001b[0m\n\u001b[0m",
      "\u001b[0;31mValueError\u001b[0m: invalid literal for int() with base 10: '3 11 23 54 12 85 96 45 23 5'"
     ]
    }
   ],
   "source": [
    "n = int(input().strip())"
   ]
  },
  {
   "cell_type": "code",
   "execution_count": 21,
   "metadata": {},
   "outputs": [
    {
     "name": "stdout",
     "output_type": "stream",
     "text": [
      "11 2 4\n",
      "4 5 6\n",
      "10 8 -12\n"
     ]
    }
   ],
   "source": [
    "n=3\n",
    "arr = []\n",
    "for _ in range(n):\n",
    "        arr.append(list(map(int, input().rstrip().split())))"
   ]
  },
  {
   "cell_type": "code",
   "execution_count": 22,
   "metadata": {},
   "outputs": [
    {
     "data": {
      "text/plain": [
       "[[11, 2, 4], [4, 5, 6], [10, 8, -12]]"
      ]
     },
     "execution_count": 22,
     "metadata": {},
     "output_type": "execute_result"
    }
   ],
   "source": [
    "arr"
   ]
  },
  {
   "cell_type": "code",
   "execution_count": 1,
   "metadata": {},
   "outputs": [],
   "source": [
    "import numpy as np"
   ]
  },
  {
   "cell_type": "code",
   "execution_count": 24,
   "metadata": {},
   "outputs": [],
   "source": [
    "\n",
    "l =np.array(arr)"
   ]
  },
  {
   "cell_type": "code",
   "execution_count": 19,
   "metadata": {},
   "outputs": [
    {
     "data": {
      "text/plain": [
       "array([[1, 2, 3],\n",
       "       [4, 5, 6],\n",
       "       [7, 8, 9]])"
      ]
     },
     "execution_count": 19,
     "metadata": {},
     "output_type": "execute_result"
    }
   ],
   "source": [
    "l"
   ]
  },
  {
   "cell_type": "code",
   "execution_count": 20,
   "metadata": {},
   "outputs": [
    {
     "data": {
      "text/plain": [
       "array([3, 5, 7])"
      ]
     },
     "execution_count": 20,
     "metadata": {},
     "output_type": "execute_result"
    }
   ],
   "source": [
    "np.diagonal(l[:, ::-1])"
   ]
  },
  {
   "cell_type": "code",
   "execution_count": 15,
   "metadata": {},
   "outputs": [
    {
     "data": {
      "text/plain": [
       "array([[3, 2, 1],\n",
       "       [6, 5, 4],\n",
       "       [9, 8, 7]])"
      ]
     },
     "execution_count": 15,
     "metadata": {},
     "output_type": "execute_result"
    }
   ],
   "source": [
    "np.abs(sum(np.diagonal(l))-sum(np.diagonal(l[:, ::-1])))"
   ]
  },
  {
   "cell_type": "code",
   "execution_count": 25,
   "metadata": {},
   "outputs": [
    {
     "data": {
      "text/plain": [
       "15"
      ]
     },
     "execution_count": 25,
     "metadata": {},
     "output_type": "execute_result"
    }
   ],
   "source": [
    "np.abs(sum(np.diagonal(l))-sum(np.diagonal(l[:, ::-1])))"
   ]
  },
  {
   "cell_type": "code",
   "execution_count": 5,
   "metadata": {},
   "outputs": [
    {
     "data": {
      "text/plain": [
       "6.0"
      ]
     },
     "execution_count": 5,
     "metadata": {},
     "output_type": "execute_result"
    }
   ],
   "source": [
    "n=4\n",
    "m=3\n",
    "if (m%2==0) and (n%2 ==0):\n",
    "    cnt= (m-1)*(n-1)\n",
    "elif ((m+1)%2==0) and (n%2==0):\n",
    "    cnt = (m+1)/2 *(n-1)\n",
    "elif (m%2==0) and ((n+1)%2==0):\n",
    "    cnt = (n+1)/2 *(m-1)\n",
    "elif ((m+1)%2==0) and ((n+1)%2==0):\n",
    "    cnt=(n+1)/2 * (m+1)/2\n",
    "cnt"
   ]
  },
  {
   "cell_type": "code",
   "execution_count": null,
   "metadata": {},
   "outputs": [],
   "source": [
    "n=4\n",
    "m=3\n",
    "if (m%2==0) and (n%2 ==0):\n",
    "    cnt= m*n/4\n",
    "elif ((m+1)%2==0) and (n%2==0):\n",
    "    cnt = (m-1)*/4+m*n/2\n",
    "elif (m%2==0) and ((n+1)%2==0):\n",
    "    cnt = (n+1)/2 *(m-1)\n",
    "elif ((m+1)%2==0) and ((n+1)%2==0):\n",
    "    cnt=(n+1)/2 * (m+1)/2\n",
    "cnt"
   ]
  },
  {
   "cell_type": "code",
   "execution_count": 6,
   "metadata": {},
   "outputs": [],
   "source": [
    "x1,y1,x2,y2,x3,y3=[0,0,1,1,2,0]"
   ]
  },
  {
   "cell_type": "code",
   "execution_count": 39,
   "metadata": {},
   "outputs": [],
   "source": [
    "def area(x1, y1, x2, y2, x3, y3): \n",
    "  \n",
    "    return abs((x1 * (y2 - y3) + x2 * (y3 - y1)  \n",
    "                + x3 * (y1 - y2)) / 2) \n",
    "  \n",
    "def isInside(x1, y1, x2, y2, x3, y3, x, y): \n",
    "    A = area (x1, y1, x2, y2, x3, y3) \n",
    "    A1 = area (x, y, x2, y2, x3, y3) \n",
    "    A2 = area (x1, y1, x, y, x3, y3) \n",
    "    A3 = area (x1, y1, x2, y2, x, y) \n",
    "    if(A == A1 + A2 + A3): \n",
    "        return True\n",
    "    else: \n",
    "        return False"
   ]
  },
  {
   "cell_type": "code",
   "execution_count": 4,
   "metadata": {},
   "outputs": [],
   "source": [
    "for i in range(5,-5,-1):\n",
    "    print(i)"
   ]
  },
  {
   "cell_type": "code",
   "execution_count": 40,
   "metadata": {},
   "outputs": [
    {
     "name": "stdout",
     "output_type": "stream",
     "text": [
      "[1, 1]\n"
     ]
    }
   ],
   "source": [
    "for i in range(max(x1,x2,x3),min(x1,x2,x3),-1):\n",
    "    for j in range(max(y1,y2,y3),min(y1,y2,y3),-1):\n",
    "        print(i,j)\n",
    "        if isInside(x1, y1, x2, y2, x3, y3, i, j):\n",
    "            print([i,j], ' is answer')\n",
    "        "
   ]
  },
  {
   "cell_type": "code",
   "execution_count": 18,
   "metadata": {},
   "outputs": [
    {
     "data": {
      "text/plain": [
       "[3, 4, 5, 6, 7]"
      ]
     },
     "execution_count": 18,
     "metadata": {},
     "output_type": "execute_result"
    }
   ],
   "source": [
    "l[0:1]"
   ]
  },
  {
   "cell_type": "code",
   "execution_count": 45,
   "metadata": {},
   "outputs": [],
   "source": [
    "l =[5,3,4,5,6,7,2,4,6,8,98,2]   "
   ]
  },
  {
   "cell_type": "code",
   "execution_count": 61,
   "metadata": {},
   "outputs": [
    {
     "data": {
      "text/plain": [
       "[0, 1, 2, 3, 4, 5, 6, 7, 8, 9, 10, 11, 12, 13, 14, 15, 16, 17, 18, 19]"
      ]
     },
     "execution_count": 61,
     "metadata": {},
     "output_type": "execute_result"
    }
   ],
   "source": [
    "l = list(range(20))\n",
    "l"
   ]
  },
  {
   "cell_type": "code",
   "execution_count": 63,
   "metadata": {},
   "outputs": [
    {
     "data": {
      "text/plain": [
       "[19, 2, 15, 6, 7, 10, 9, 0, 4, 18, 8, 11, 5, 14, 17, 16, 3, 1, 12, 13]"
      ]
     },
     "execution_count": 63,
     "metadata": {},
     "output_type": "execute_result"
    }
   ],
   "source": [
    "random.shuffle(l)\n",
    "l"
   ]
  },
  {
   "cell_type": "code",
   "execution_count": 46,
   "metadata": {},
   "outputs": [
    {
     "ename": "SyntaxError",
     "evalue": "invalid syntax (<ipython-input-46-6c26010ac516>, line 12)",
     "output_type": "error",
     "traceback": [
      "\u001b[0;36m  File \u001b[0;32m\"<ipython-input-46-6c26010ac516>\"\u001b[0;36m, line \u001b[0;32m12\u001b[0m\n\u001b[0;31m    else if\u001b[0m\n\u001b[0m          ^\u001b[0m\n\u001b[0;31mSyntaxError\u001b[0m\u001b[0;31m:\u001b[0m invalid syntax\n"
     ]
    }
   ],
   "source": [
    "\n",
    "N=14\n",
    "maxsum = math.inf\n",
    "for i in range(len(l)):\n",
    "    sum0=0\n",
    "    for j in range(i+1, len(l)):\n",
    "        sum1 = sum(l[i:j])\n",
    "        if abs(sum1-N)<maxsum:\n",
    "            print(i , j, sum(l[i:j]))\n",
    "            maxsum=abs(sum(l[i:j])-N)\n",
    "            res= (i,j-1)\n",
    "        else if \n",
    "res"
   ]
  },
  {
   "cell_type": "code",
   "execution_count": 54,
   "metadata": {},
   "outputs": [
    {
     "name": "stdout",
     "output_type": "stream",
     "text": [
      "Original list :  [7, 14, 21, 28, 35, 42, 49, 56, 63, 70]\n",
      "List after first shuffle  :  [14, 7, 28, 35, 63, 49, 70, 21, 42, 56]\n"
     ]
    }
   ],
   "source": [
    "import random\n",
    "number_list = [7, 14, 21, 28, 35, 42, 49, 56, 63, 70]\n",
    "print (\"Original list : \",  number_list)\n",
    "random.shuffle(number_list) #shuffle method\n",
    "print (\"List after first shuffle  : \",  number_list)"
   ]
  },
  {
   "cell_type": "code",
   "execution_count": null,
   "metadata": {},
   "outputs": [],
   "source": [
    "def collinear(x1, y1, x2, y2, x3, y3): \n",
    "\n",
    "    a = x1 * (y2 - y3) + x2 * (y3 - y1) + x3 * (y1 - y2) \n",
    "    if a == 0:\n",
    "        return True\n",
    "    else:\n",
    "        return False\n",
    "\n"
   ]
  }
 ],
 "metadata": {
  "kernelspec": {
   "display_name": "Python 3",
   "language": "python",
   "name": "python3"
  },
  "language_info": {
   "codemirror_mode": {
    "name": "ipython",
    "version": 3
   },
   "file_extension": ".py",
   "mimetype": "text/x-python",
   "name": "python",
   "nbconvert_exporter": "python",
   "pygments_lexer": "ipython3",
   "version": "3.5.2"
  }
 },
 "nbformat": 4,
 "nbformat_minor": 2
}
